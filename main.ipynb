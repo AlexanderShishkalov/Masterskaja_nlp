{
 "cells": [
  {
   "cell_type": "code",
   "execution_count": 92,
   "metadata": {},
   "outputs": [],
   "source": [
    "#import section\n",
    "import pandas as pd\n",
    "from sentence_transformers import SentenceTransformer, util\n",
    "import numpy as np\n"
   ]
  },
  {
   "cell_type": "code",
   "execution_count": 174,
   "metadata": {},
   "outputs": [],
   "source": [
    "class find_school():\n",
    "    \"\"\"\n",
    "    Класс собирает необходимые функции вместе\n",
    "    \"\"\"\n",
    "\n",
    "    def __init__(self, model: str ='sentence-transformers/LaBSE') -> None:\n",
    "        self.model = SentenceTransformer(model)\n",
    "\n",
    "    def fit(self, train) -> None:\n",
    "        \"\"\"\n",
    "        !!!в разработке\n",
    "        \"\"\"\n",
    "        self.model.fit()\n",
    "        \n",
    "        \n",
    "    def encode(self, sentence: str|list) -> np.ndarray:\n",
    "        \"\"\" \n",
    "        энкодер\n",
    "        \"\"\" \n",
    "        return self.model.encode(sentence)\n",
    "\n",
    "    def find_similar(self, query:np.ndarray, corpus: np.ndarray) -> tuple[int, float]:\n",
    "        \"\"\" \n",
    "        Функция возвращает кортеж из номера найденого значения из корпуса и вероятности совпадения\n",
    "        \"\"\"\n",
    "        result = util.semantic_search(query, corpus, top_k=1)\n",
    "        \n",
    "        return result[0][0]['corpus_id'], result[0][0]['score']\n",
    "    \n",
    "    @staticmethod\n",
    "    def augment_corpus(self, corpus: list) -> list:\n",
    "        \"\"\"\n",
    "        !!!в разработке\n",
    "        функция для аугмантации корпуса\n",
    "\n",
    "        \"\"\"\n",
    "        aug_corpus = corpus\n",
    "        return aug_corpus\n",
    "\n",
    "    @staticmethod\n",
    "    def clean_input(self, sentence:str) -> str:  \n",
    "        \"\"\" \n",
    "        функция очистки имени школы от лишних символов\n",
    "        \"\"\"      \n",
    "        return sentence.replace(r'[^А-Яа-яёЁA-Za-z№\\s0-9]', ' ', regex=True).replace(r'\\s+', ' ', regex=True).str.strip()"
   ]
  },
  {
   "cell_type": "code",
   "execution_count": 175,
   "metadata": {},
   "outputs": [],
   "source": [
    "df = pd.read_csv('reference_schools.csv', index_col=1)\n",
    "df['merge_name'] = df['name'] + ' ' + df['region']"
   ]
  },
  {
   "cell_type": "code",
   "execution_count": 176,
   "metadata": {},
   "outputs": [],
   "source": [
    "df.drop(df.columns[0], axis=1, inplace=True)\n"
   ]
  },
  {
   "cell_type": "code",
   "execution_count": 177,
   "metadata": {},
   "outputs": [
    {
     "data": {
      "text/html": [
       "<div>\n",
       "<style scoped>\n",
       "    .dataframe tbody tr th:only-of-type {\n",
       "        vertical-align: middle;\n",
       "    }\n",
       "\n",
       "    .dataframe tbody tr th {\n",
       "        vertical-align: top;\n",
       "    }\n",
       "\n",
       "    .dataframe thead th {\n",
       "        text-align: right;\n",
       "    }\n",
       "</style>\n",
       "<table border=\"1\" class=\"dataframe\">\n",
       "  <thead>\n",
       "    <tr style=\"text-align: right;\">\n",
       "      <th></th>\n",
       "      <th>name</th>\n",
       "      <th>region</th>\n",
       "      <th>merge_name</th>\n",
       "    </tr>\n",
       "    <tr>\n",
       "      <th>school_id</th>\n",
       "      <th></th>\n",
       "      <th></th>\n",
       "      <th></th>\n",
       "    </tr>\n",
       "  </thead>\n",
       "  <tbody>\n",
       "    <tr>\n",
       "      <th>305</th>\n",
       "      <td>Прогресс</td>\n",
       "      <td>Алтайский край</td>\n",
       "      <td>Прогресс Алтайский край</td>\n",
       "    </tr>\n",
       "    <tr>\n",
       "      <th>609</th>\n",
       "      <td>\"СШ \"Гвоздика\"</td>\n",
       "      <td>Удмуртская республика</td>\n",
       "      <td>\"СШ \"Гвоздика\" Удмуртская республика</td>\n",
       "    </tr>\n",
       "    <tr>\n",
       "      <th>610</th>\n",
       "      <td>СШОР \"Надежда Губернии</td>\n",
       "      <td>Саратовская область</td>\n",
       "      <td>СШОР \"Надежда Губернии Саратовская область</td>\n",
       "    </tr>\n",
       "    <tr>\n",
       "      <th>611</th>\n",
       "      <td>КФК «Айсберг»</td>\n",
       "      <td>Пермский край</td>\n",
       "      <td>КФК «Айсберг» Пермский край</td>\n",
       "    </tr>\n",
       "    <tr>\n",
       "      <th>1836</th>\n",
       "      <td>ООО \"Триумф\"</td>\n",
       "      <td>Москва</td>\n",
       "      <td>ООО \"Триумф\" Москва</td>\n",
       "    </tr>\n",
       "  </tbody>\n",
       "</table>\n",
       "</div>"
      ],
      "text/plain": [
       "                             name                 region  \\\n",
       "school_id                                                  \n",
       "305                      Прогресс         Алтайский край   \n",
       "609                \"СШ \"Гвоздика\"  Удмуртская республика   \n",
       "610        СШОР \"Надежда Губернии    Саратовская область   \n",
       "611                 КФК «Айсберг»          Пермский край   \n",
       "1836                 ООО \"Триумф\"                 Москва   \n",
       "\n",
       "                                           merge_name  \n",
       "school_id                                              \n",
       "305                           Прогресс Алтайский край  \n",
       "609              \"СШ \"Гвоздика\" Удмуртская республика  \n",
       "610        СШОР \"Надежда Губернии Саратовская область  \n",
       "611                       КФК «Айсберг» Пермский край  \n",
       "1836                              ООО \"Триумф\" Москва  "
      ]
     },
     "execution_count": 177,
     "metadata": {},
     "output_type": "execute_result"
    }
   ],
   "source": [
    "df.tail()"
   ]
  },
  {
   "cell_type": "code",
   "execution_count": 178,
   "metadata": {},
   "outputs": [],
   "source": [
    "query_df = pd.read_csv(\"Примерное написание.csv\", index_col=0)"
   ]
  },
  {
   "cell_type": "code",
   "execution_count": 179,
   "metadata": {},
   "outputs": [],
   "source": [
    "query_df['clean_name'] = query_df['name'].replace(r'[^А-Яа-яёЁA-Za-z№\\s0-9]', ' ', regex=True).replace(r'\\s+', ' ', regex=True).str.strip()"
   ]
  },
  {
   "cell_type": "code",
   "execution_count": 180,
   "metadata": {},
   "outputs": [
    {
     "data": {
      "text/plain": [
       "array(['СШ №2', 'МБУ ЦФКиС г Лобня', 'Рязанская область ХК Рязань ВДВ',\n",
       "       'ГАУ РО ХК Рязань ВДВ', 'РФСОО ФФККРК'], dtype=object)"
      ]
     },
     "execution_count": 180,
     "metadata": {},
     "output_type": "execute_result"
    }
   ],
   "source": [
    "query_df['clean_name'].values[10:15]"
   ]
  },
  {
   "cell_type": "code",
   "execution_count": 181,
   "metadata": {},
   "outputs": [],
   "source": [
    "model = find_school()"
   ]
  },
  {
   "cell_type": "code",
   "execution_count": 182,
   "metadata": {},
   "outputs": [],
   "source": [
    "corpus = model.encode(df.merge_name.values)"
   ]
  },
  {
   "cell_type": "code",
   "execution_count": 183,
   "metadata": {},
   "outputs": [],
   "source": [
    "query_df['np_query']= query_df['clean_name'].apply(model.encode)"
   ]
  },
  {
   "cell_type": "code",
   "execution_count": 184,
   "metadata": {},
   "outputs": [],
   "source": [
    "query_df[['corpus_idx','score']] = query_df['np_query'].transform(lambda x: model.find_similar(x, corpus)).apply(pd.Series)"
   ]
  },
  {
   "cell_type": "code",
   "execution_count": 185,
   "metadata": {},
   "outputs": [
    {
     "data": {
      "text/html": [
       "<div>\n",
       "<style scoped>\n",
       "    .dataframe tbody tr th:only-of-type {\n",
       "        vertical-align: middle;\n",
       "    }\n",
       "\n",
       "    .dataframe tbody tr th {\n",
       "        vertical-align: top;\n",
       "    }\n",
       "\n",
       "    .dataframe thead th {\n",
       "        text-align: right;\n",
       "    }\n",
       "</style>\n",
       "<table border=\"1\" class=\"dataframe\">\n",
       "  <thead>\n",
       "    <tr style=\"text-align: right;\">\n",
       "      <th></th>\n",
       "      <th>name</th>\n",
       "      <th>clean_name</th>\n",
       "      <th>np_query</th>\n",
       "      <th>corpus_idx</th>\n",
       "      <th>score</th>\n",
       "    </tr>\n",
       "    <tr>\n",
       "      <th>school_id</th>\n",
       "      <th></th>\n",
       "      <th></th>\n",
       "      <th></th>\n",
       "      <th></th>\n",
       "      <th></th>\n",
       "    </tr>\n",
       "  </thead>\n",
       "  <tbody>\n",
       "    <tr>\n",
       "      <th>1836</th>\n",
       "      <td>ООО \"Триумф\"</td>\n",
       "      <td>ООО Триумф</td>\n",
       "      <td>[-0.0020779932, -0.023952289, -0.02229752, 0.0...</td>\n",
       "      <td>287.0</td>\n",
       "      <td>0.731663</td>\n",
       "    </tr>\n",
       "    <tr>\n",
       "      <th>1836</th>\n",
       "      <td>Москва, СК \"Триумф\"</td>\n",
       "      <td>Москва СК Триумф</td>\n",
       "      <td>[0.000107351974, -0.035497945, -0.020385103, -...</td>\n",
       "      <td>287.0</td>\n",
       "      <td>0.867980</td>\n",
       "    </tr>\n",
       "    <tr>\n",
       "      <th>610</th>\n",
       "      <td>СШОР \"Надежда Губернии</td>\n",
       "      <td>СШОР Надежда Губернии</td>\n",
       "      <td>[-0.043393172, -0.0060612764, 0.01834402, 0.01...</td>\n",
       "      <td>285.0</td>\n",
       "      <td>0.720434</td>\n",
       "    </tr>\n",
       "    <tr>\n",
       "      <th>610</th>\n",
       "      <td>Саратовская область, ГБУСО \"СШОР \"Надежда Губе...</td>\n",
       "      <td>Саратовская область ГБУСО СШОР Надежда Губернии</td>\n",
       "      <td>[0.020036744, -0.05076504, 0.02466188, 0.03609...</td>\n",
       "      <td>285.0</td>\n",
       "      <td>0.913695</td>\n",
       "    </tr>\n",
       "    <tr>\n",
       "      <th>609</th>\n",
       "      <td>\"СШ \"Гвоздика\"</td>\n",
       "      <td>СШ Гвоздика</td>\n",
       "      <td>[-0.033360552, -0.049458038, -0.023155967, -0....</td>\n",
       "      <td>284.0</td>\n",
       "      <td>0.624845</td>\n",
       "    </tr>\n",
       "    <tr>\n",
       "      <th>...</th>\n",
       "      <td>...</td>\n",
       "      <td>...</td>\n",
       "      <td>...</td>\n",
       "      <td>...</td>\n",
       "      <td>...</td>\n",
       "    </tr>\n",
       "    <tr>\n",
       "      <th>3</th>\n",
       "      <td>Республика Татарстан, СШОР ФСО Авиатор</td>\n",
       "      <td>Республика Татарстан СШОР ФСО Авиатор</td>\n",
       "      <td>[-0.0022777987, -0.07397329, -0.005642348, 0.0...</td>\n",
       "      <td>136.0</td>\n",
       "      <td>0.804658</td>\n",
       "    </tr>\n",
       "    <tr>\n",
       "      <th>3</th>\n",
       "      <td>СШОР ФСО Авиатор, Республика Татарстан</td>\n",
       "      <td>СШОР ФСО Авиатор Республика Татарстан</td>\n",
       "      <td>[-0.00314746, -0.06956039, -0.014659062, 0.033...</td>\n",
       "      <td>136.0</td>\n",
       "      <td>0.774821</td>\n",
       "    </tr>\n",
       "    <tr>\n",
       "      <th>3</th>\n",
       "      <td>Республика Татарстан, МБУ ДО СШОР «ФСО \"Авиатор\"»</td>\n",
       "      <td>Республика Татарстан МБУ ДО СШОР ФСО Авиатор</td>\n",
       "      <td>[0.01674769, -0.059445653, 0.0025185728, 0.035...</td>\n",
       "      <td>136.0</td>\n",
       "      <td>0.773810</td>\n",
       "    </tr>\n",
       "    <tr>\n",
       "      <th>2</th>\n",
       "      <td>ЯНАО, СШ \"Авангард\"</td>\n",
       "      <td>ЯНАО СШ Авангард</td>\n",
       "      <td>[-0.07099186, -0.0035401976, 0.00079975545, 0....</td>\n",
       "      <td>1.0</td>\n",
       "      <td>0.562582</td>\n",
       "    </tr>\n",
       "    <tr>\n",
       "      <th>1</th>\n",
       "      <td>Московская область, СШ \"Авангард\"</td>\n",
       "      <td>Московская область СШ Авангард</td>\n",
       "      <td>[-0.019217754, 0.00944571, 0.017370671, 0.0219...</td>\n",
       "      <td>0.0</td>\n",
       "      <td>0.855762</td>\n",
       "    </tr>\n",
       "  </tbody>\n",
       "</table>\n",
       "<p>895 rows × 5 columns</p>\n",
       "</div>"
      ],
      "text/plain": [
       "                                                        name  \\\n",
       "school_id                                                      \n",
       "1836                                            ООО \"Триумф\"   \n",
       "1836                                     Москва, СК \"Триумф\"   \n",
       "610                                   СШОР \"Надежда Губернии   \n",
       "610        Саратовская область, ГБУСО \"СШОР \"Надежда Губе...   \n",
       "609                                           \"СШ \"Гвоздика\"   \n",
       "...                                                      ...   \n",
       "3                     Республика Татарстан, СШОР ФСО Авиатор   \n",
       "3                     СШОР ФСО Авиатор, Республика Татарстан   \n",
       "3          Республика Татарстан, МБУ ДО СШОР «ФСО \"Авиатор\"»   \n",
       "2                                        ЯНАО, СШ \"Авангард\"   \n",
       "1                          Московская область, СШ \"Авангард\"   \n",
       "\n",
       "                                                clean_name  \\\n",
       "school_id                                                    \n",
       "1836                                            ООО Триумф   \n",
       "1836                                      Москва СК Триумф   \n",
       "610                                  СШОР Надежда Губернии   \n",
       "610        Саратовская область ГБУСО СШОР Надежда Губернии   \n",
       "609                                            СШ Гвоздика   \n",
       "...                                                    ...   \n",
       "3                    Республика Татарстан СШОР ФСО Авиатор   \n",
       "3                    СШОР ФСО Авиатор Республика Татарстан   \n",
       "3             Республика Татарстан МБУ ДО СШОР ФСО Авиатор   \n",
       "2                                         ЯНАО СШ Авангард   \n",
       "1                           Московская область СШ Авангард   \n",
       "\n",
       "                                                    np_query  corpus_idx  \\\n",
       "school_id                                                                  \n",
       "1836       [-0.0020779932, -0.023952289, -0.02229752, 0.0...       287.0   \n",
       "1836       [0.000107351974, -0.035497945, -0.020385103, -...       287.0   \n",
       "610        [-0.043393172, -0.0060612764, 0.01834402, 0.01...       285.0   \n",
       "610        [0.020036744, -0.05076504, 0.02466188, 0.03609...       285.0   \n",
       "609        [-0.033360552, -0.049458038, -0.023155967, -0....       284.0   \n",
       "...                                                      ...         ...   \n",
       "3          [-0.0022777987, -0.07397329, -0.005642348, 0.0...       136.0   \n",
       "3          [-0.00314746, -0.06956039, -0.014659062, 0.033...       136.0   \n",
       "3          [0.01674769, -0.059445653, 0.0025185728, 0.035...       136.0   \n",
       "2          [-0.07099186, -0.0035401976, 0.00079975545, 0....         1.0   \n",
       "1          [-0.019217754, 0.00944571, 0.017370671, 0.0219...         0.0   \n",
       "\n",
       "              score  \n",
       "school_id            \n",
       "1836       0.731663  \n",
       "1836       0.867980  \n",
       "610        0.720434  \n",
       "610        0.913695  \n",
       "609        0.624845  \n",
       "...             ...  \n",
       "3          0.804658  \n",
       "3          0.774821  \n",
       "3          0.773810  \n",
       "2          0.562582  \n",
       "1          0.855762  \n",
       "\n",
       "[895 rows x 5 columns]"
      ]
     },
     "execution_count": 185,
     "metadata": {},
     "output_type": "execute_result"
    }
   ],
   "source": [
    "query_df"
   ]
  },
  {
   "cell_type": "code",
   "execution_count": 199,
   "metadata": {},
   "outputs": [],
   "source": [
    "#добавляем столбец с индексами найденых школ путем сопоставления индекса корпуса и индекса датафрема с эталонами\n",
    "query_df['school_id'] = [df.index[int(x)] for x in query_df.corpus_idx]"
   ]
  },
  {
   "cell_type": "code",
   "execution_count": 200,
   "metadata": {},
   "outputs": [
    {
     "data": {
      "text/plain": [
       "0.6793296089385474"
      ]
     },
     "execution_count": 200,
     "metadata": {},
     "output_type": "execute_result"
    }
   ],
   "source": [
    "sum(query_df['school_id'] == query_df.index)/query_df.shape[0]"
   ]
  },
  {
   "cell_type": "code",
   "execution_count": null,
   "metadata": {},
   "outputs": [],
   "source": []
  }
 ],
 "metadata": {
  "kernelspec": {
   "display_name": "Python 3",
   "language": "python",
   "name": "python3"
  },
  "language_info": {
   "codemirror_mode": {
    "name": "ipython",
    "version": 3
   },
   "file_extension": ".py",
   "mimetype": "text/x-python",
   "name": "python",
   "nbconvert_exporter": "python",
   "pygments_lexer": "ipython3",
   "version": "3.10.8"
  }
 },
 "nbformat": 4,
 "nbformat_minor": 2
}
